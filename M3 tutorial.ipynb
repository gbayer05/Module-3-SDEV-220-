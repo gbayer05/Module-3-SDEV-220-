{
 "cells": [
  {
   "cell_type": "code",
   "execution_count": 1,
   "id": "ffe5263e",
   "metadata": {},
   "outputs": [
    {
     "name": "stdout",
     "output_type": "stream",
     "text": [
      "[0, 1, 1, 2, 2, 2, 2]\n"
     ]
    }
   ],
   "source": [
    "def sort012(arr):\n",
    "    # count how many 0s, 1s, and 2s\n",
    "    zeros = arr.count(0)\n",
    "    ones = arr.count(1)\n",
    "    twos = arr.count(2)\n",
    "\n",
    "    # rebuild the array\n",
    "    return [0]*zeros + [1]*ones + [2]*twos\n",
    "\n",
    "\n",
    "# Example\n",
    "arr = [0, 1, 2, 1, 2, 2, 2]\n",
    "print(sort012(arr))  # [0, 1, 1, 2, 2, 2, 2]\n"
   ]
  },
  {
   "cell_type": "code",
   "execution_count": 2,
   "id": "3e648403",
   "metadata": {},
   "outputs": [],
   "source": [
    "def binary_search(arr, k):\n",
    "    low = 0\n",
    "    high = len(arr) - 1\n",
    "    result = -1  # to store the first occurrence\n",
    "\n",
    "    while low <= high:\n",
    "        mid = (low + high) // 2\n",
    "\n",
    "        if arr[mid] == k:\n",
    "            result = mid       # store the index\n",
    "            high = mid - 1     # keep searching left for the first occurrence\n",
    "        elif arr[mid] < k:\n",
    "            low = mid + 1\n",
    "        else:\n",
    "            high = mid - 1\n",
    "\n",
    "    return\n"
   ]
  }
 ],
 "metadata": {
  "kernelspec": {
   "display_name": "base",
   "language": "python",
   "name": "python3"
  },
  "language_info": {
   "codemirror_mode": {
    "name": "ipython",
    "version": 3
   },
   "file_extension": ".py",
   "mimetype": "text/x-python",
   "name": "python",
   "nbconvert_exporter": "python",
   "pygments_lexer": "ipython3",
   "version": "3.11.7"
  }
 },
 "nbformat": 4,
 "nbformat_minor": 5
}
